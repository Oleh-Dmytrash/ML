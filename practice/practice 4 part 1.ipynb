{
 "cells": [
  {
   "cell_type": "code",
   "execution_count": 1,
   "metadata": {},
   "outputs": [
    {
     "name": "stdout",
     "output_type": "stream",
     "text": [
      "y = [0.32492996]\n"
     ]
    }
   ],
   "source": [
    "import numpy as np \n",
    "\n",
    "def sigm_func(x):    \n",
    "    return 1 / (1 + np.exp(-x))\n",
    "\n",
    "def task_1():    \n",
    "    x = [1.5, -0.7, 1.8]    \n",
    "    w = [[0.1, -0.5, 0.9],          \n",
    "               [0.4, 0.8, -1.5],          \n",
    "               [0.8, 1.2, -1.7]]\n",
    "    h = sigm_func(np.dot(x, w))\n",
    "    np.random.seed(2)    \n",
    "    w_h = np.random.rand(3, 1) * 2 - 1    \n",
    "    output = np.dot(h, w_h)    \n",
    "    y = sigm_func(output)    \n",
    "    print('y = ' + str(y))\n",
    "\n",
    "task_1()\n"
   ]
  },
  {
   "cell_type": "code",
   "execution_count": null,
   "metadata": {},
   "outputs": [],
   "source": []
  },
  {
   "cell_type": "code",
   "execution_count": null,
   "metadata": {},
   "outputs": [],
   "source": []
  }
 ],
 "metadata": {
  "kernelspec": {
   "display_name": "Python 3",
   "language": "python",
   "name": "python3"
  },
  "language_info": {
   "codemirror_mode": {
    "name": "ipython",
    "version": 3
   },
   "file_extension": ".py",
   "mimetype": "text/x-python",
   "name": "python",
   "nbconvert_exporter": "python",
   "pygments_lexer": "ipython3",
   "version": "3.8.2"
  }
 },
 "nbformat": 4,
 "nbformat_minor": 4
}
